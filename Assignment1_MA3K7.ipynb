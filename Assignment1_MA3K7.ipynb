{
 "cells": [
  {
   "cell_type": "code",
   "execution_count": 1,
   "id": "3369c4a5",
   "metadata": {},
   "outputs": [
    {
     "name": "stdout",
     "output_type": "stream",
     "text": [
      "[1, 5, 6, 1, 7, 8, 5, 3, 8, 1, 9, 0, 9, 9, 8, 7, 5, 2, 7, 9, 6, 5, 1, 6, 7, 3, 0, 3, 3, 6, 9, 5, 4, 9, 3, 2, 5, 7, 2, 9, 1, 0, 1, 1, 2, 3, 5, 8, 3, 1, 4, 5, 9, 4, 3, 7, 0, 7, 7, 4, 1, 5, 6, 1, 7, 8, 5, 3, 8, 1, 9, 0, 9, 9, 8, 7, 5, 2, 7, 9, 6, 5, 1, 6, 7, 3, 0, 3, 3, 6, 9, 5, 4, 9, 3, 2, 5, 7, 2, 9]\n"
     ]
    }
   ],
   "source": [
    "def fibonacci_modulo_10(a, b, n):\n",
    "    sequence = [a, b]\n",
    "    for _ in range(2, n):\n",
    "        next_number = (sequence[-1] + sequence[-2]) % 10\n",
    "        sequence.append(next_number)\n",
    "    return sequence\n",
    "\n",
    "# Example usage with arbitrary initial numbers\n",
    "initial_number_1 = 1\n",
    "initial_number_2 = 5\n",
    "number_of_terms = 100\n",
    "\n",
    "result_sequence = fibonacci_modulo_10(initial_number_1, initial_number_2, number_of_terms)\n",
    "print(result_sequence)\n"
   ]
  },
  {
   "cell_type": "code",
   "execution_count": 2,
   "id": "917f0b5d",
   "metadata": {},
   "outputs": [
    {
     "name": "stdout",
     "output_type": "stream",
     "text": [
      "[8, 9, 7, 6, 3, 9, 2, 1, 3, 4, 7, 1, 8, 9, 7, 6, 3, 9, 2, 1, 3, 4, 7, 1, 8, 9, 7, 6, 3, 9, 2, 1, 3, 4, 7, 1, 8, 9, 7, 6, 3, 9, 2, 1, 3, 4, 7, 1, 8, 9, 7, 6, 3, 9, 2, 1, 3, 4, 7, 1, 8, 9, 7, 6, 3, 9, 2, 1, 3, 4, 7, 1, 8, 9, 7, 6, 3, 9, 2, 1, 3, 4, 7, 1, 8, 9, 7, 6, 3, 9, 2, 1, 3, 4, 7, 1, 8, 9, 7, 6]\n"
     ]
    }
   ],
   "source": [
    "def fibonacci_modulo_10(a, b, n):\n",
    "    sequence = [a, b]\n",
    "    for _ in range(2, n):\n",
    "        next_number = (sequence[-1] + sequence[-2]) % 10\n",
    "        sequence.append(next_number)\n",
    "    return sequence\n",
    "\n",
    "# Example usage with arbitrary initial numbers\n",
    "initial_number_1 = 8\n",
    "initial_number_2 = 9\n",
    "number_of_terms = 100\n",
    "\n",
    "result_sequence = fibonacci_modulo_10(initial_number_1, initial_number_2, number_of_terms)\n",
    "print(result_sequence)"
   ]
  },
  {
   "cell_type": "code",
   "execution_count": 3,
   "id": "9d608266",
   "metadata": {},
   "outputs": [
    {
     "name": "stdout",
     "output_type": "stream",
     "text": [
      "The period of the sequence is 12\n"
     ]
    }
   ],
   "source": [
    "def find_period(sequence):\n",
    "    sequence_length = len(sequence)\n",
    "\n",
    "    for period_length in range(1, sequence_length):\n",
    "        is_periodic = all((sequence[i] == sequence[i % period_length])for i in range(period_length, sequence_length))\n",
    "\n",
    "        if is_periodic:\n",
    "            return period_length\n",
    "\n",
    "    # If no period is found, the sequence might be non-periodic\n",
    "    return None\n",
    "\n",
    "# Usage:\n",
    "period = find_period(result_sequence)\n",
    "\n",
    "if period is not None:\n",
    "    print(f\"The period of the sequence is {period}\")\n",
    "else:\n",
    "    print(f\"The sequence is not periodic when sequence length is {number_of_terms}\")\n"
   ]
  },
  {
   "cell_type": "code",
   "execution_count": 4,
   "id": "16b682bc",
   "metadata": {},
   "outputs": [
    {
     "name": "stdout",
     "output_type": "stream",
     "text": [
      "Pairs not present in any sequence:\n",
      "(6, 8)\n",
      "(2, 6)\n",
      "(8, 4)\n",
      "(4, 2)\n"
     ]
    }
   ],
   "source": [
    "def find_pairs_not_in_sequences(*sequences):\n",
    "    all_pairs = set([(i, j) for i in range(10) for j in range(10)])\n",
    "    pairs_in_sequences = set()\n",
    "\n",
    "    for seq in sequences:\n",
    "        pairs_in_sequences |= set(zip(seq, seq[1:]))\n",
    "\n",
    "    pairs_not_in_sequences = all_pairs - pairs_in_sequences\n",
    "\n",
    "    return pairs_not_in_sequences\n",
    "\n",
    "# Example with any number of sequences\n",
    "sequences = [\n",
    "    fibonacci_modulo_10(1, 5,number_of_terms),\n",
    "    fibonacci_modulo_10(0, 5,number_of_terms),\n",
    "    fibonacci_modulo_10(2, 2,number_of_terms),\n",
    "    fibonacci_modulo_10(0, 0,number_of_terms),\n",
    "    fibonacci_modulo_10(8, 9,number_of_terms),\n",
    "    # Add more sequences as needed\n",
    "]\n",
    "\n",
    "pairs_not_in_sequences = find_pairs_not_in_sequences(*sequences)\n",
    "\n",
    "print(\"Pairs not present in any sequence:\")\n",
    "for pair in pairs_not_in_sequences:\n",
    "    print(pair)\n"
   ]
  }
 ],
 "metadata": {
  "kernelspec": {
   "display_name": "Python 3 (ipykernel)",
   "language": "python",
   "name": "python3"
  },
  "language_info": {
   "codemirror_mode": {
    "name": "ipython",
    "version": 3
   },
   "file_extension": ".py",
   "mimetype": "text/x-python",
   "name": "python",
   "nbconvert_exporter": "python",
   "pygments_lexer": "ipython3",
   "version": "3.11.5"
  }
 },
 "nbformat": 4,
 "nbformat_minor": 5
}
