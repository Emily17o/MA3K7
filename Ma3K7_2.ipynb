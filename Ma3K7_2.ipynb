{
 "cells": [
  {
   "cell_type": "code",
   "execution_count": 1,
   "id": "409e3efb",
   "metadata": {},
   "outputs": [
    {
     "name": "stdout",
     "output_type": "stream",
     "text": [
      "Number of matrices with determinant zero: 7542\n",
      "Total number of matrices: 12870\n"
     ]
    }
   ],
   "source": [
    "import itertools\n",
    "import numpy as np\n",
    "\n",
    "def generate_matrices(n, zeros_count, ones_count):\n",
    "    elements = [0, 1]\n",
    "    combinations = itertools.product(elements, repeat=n**2)\n",
    "\n",
    "    for combination in combinations:\n",
    "        matrix = np.array(combination).reshape(n, n)\n",
    "        if np.count_nonzero(matrix == 1) == ones_count and np.count_nonzero(matrix == 0) == zeros_count:\n",
    "            determinant = np.linalg.det(matrix)\n",
    "            yield matrix, determinant\n",
    "\n",
    "def count_matrices_with_zero_determinant(n, zeros_count, ones_count):\n",
    "    count = 0\n",
    "    total_count = 0\n",
    "    for _, determinant in generate_matrices(n, zeros_count, ones_count):\n",
    "        total_count += 1\n",
    "        if determinant == 0:\n",
    "            count += 1\n",
    "    return count, total_count\n",
    "\n",
    "# Variables\n",
    "n = 4\n",
    "zeros_count = 8\n",
    "ones_count = 8\n",
    "\n",
    "# Count matrices with determinant zero\n",
    "zero_determinant_count, total_count = count_matrices_with_zero_determinant(n, zeros_count, ones_count)\n",
    "print(f\"Number of matrices with determinant zero: {zero_determinant_count}\")\n",
    "print(f\"Total number of matrices: {total_count}\")\n"
   ]
  },
  {
   "cell_type": "code",
   "execution_count": 2,
   "id": "3d0f3dc9",
   "metadata": {
    "scrolled": true
   },
   "outputs": [
    {
     "name": "stdout",
     "output_type": "stream",
     "text": [
      "Enter the size of the matrix (n): 1\n",
      "Who goes first, A (0) or B (1)? 1\n",
      "\n",
      "Current state of the board:\n",
      "[['_']]\n",
      "Player B's turn (1).\n",
      "Enter row number: 1\n",
      "Enter column number: 1\n",
      "Invalid move. Try again.\n",
      "\n",
      "Current state of the board:\n",
      "[['_']]\n",
      "Player B's turn (1).\n",
      "Enter row number: 0\n",
      "Enter column number: 0\n",
      "\n",
      "Current state of the board:\n",
      "[['1']]\n",
      "Player B wins! (Determinant is not 0)\n"
     ]
    }
   ],
   "source": [
    "import numpy as np\n",
    "\n",
    "def make_matrix(n):\n",
    "    \"\"\"Create an n x n matrix filled with -1, indicating empty spaces.\"\"\"\n",
    "    return np.full((n, n), -1)\n",
    "\n",
    "def print_matrix(matrix):\n",
    "    \"\"\"Print the matrix in a readable format.\"\"\"\n",
    "    print_matrix = np.where(matrix == -1, '_', matrix)  # Replace -1 with '_' for display\n",
    "    print(\"\\nCurrent state of the board:\")\n",
    "    print(print_matrix)\n",
    "\n",
    "def is_valid_move(matrix, row, col):\n",
    "    \"\"\"Check if the chosen move is valid (within the grid and on an empty space).\"\"\"\n",
    "    n = len(matrix)\n",
    "    return 0 <= row < n and 0 <= col < n and matrix[row, col] == -1\n",
    "\n",
    "def make_move(matrix, player, row, col):\n",
    "    \"\"\"Place the player's number (0 or 1) on the board.\"\"\"\n",
    "    matrix[row, col] = player\n",
    "\n",
    "def is_done(matrix):\n",
    "    \"\"\"Check if the matrix is done.\"\"\"\n",
    "    return np.all(matrix != -1)\n",
    "\n",
    "def calculate_det(matrix):\n",
    "    \"\"\"Calculate the determinant of the matrix.\"\"\"\n",
    "    return np.linalg.det(matrix)\n",
    "\n",
    "def matrix_game():\n",
    "    # Game Initialization\n",
    "    n = int(input(\"Enter the size of the matrix (n): \"))\n",
    "    matrix = make_matrix(n)\n",
    "\n",
    "    first_player = input(\"Who goes first, A (0) or B (1)? \").strip().lower()\n",
    "    player_A_turn = first_player == 'a'\n",
    "\n",
    "    # Game Play\n",
    "    while not is_done(matrix):\n",
    "        print_matrix(matrix)\n",
    "        if player_A_turn:\n",
    "            print(\"Player A's turn (0).\")\n",
    "        else:\n",
    "            print(\"Player B's turn (1).\")\n",
    "\n",
    "        # Get player's move\n",
    "        try:\n",
    "            row = int(input(\"Enter row number: \"))\n",
    "            col = int(input(\"Enter column number: \"))\n",
    "            if is_valid_move(matrix, row, col):\n",
    "                make_move(matrix, 0 if player_A_turn else 1, row, col)\n",
    "                player_A_turn = not player_A_turn  # Switch turns\n",
    "            else:\n",
    "                print(\"Invalid move. Try again.\")\n",
    "        except ValueError:\n",
    "            print(\"Invalid input. Please enter numbers.\")\n",
    "\n",
    "    # Determine Winner\n",
    "    print_matrix(matrix)\n",
    "    if calculate_det(matrix) == 0:\n",
    "        print(\"Player A wins! (Determinant is 0)\")\n",
    "    else:\n",
    "        print(\"Player B wins! (Determinant is not 0)\")\n",
    "\n",
    "# Start the game\n",
    "matrix_game()\n"
   ]
  },
  {
   "cell_type": "code",
   "execution_count": null,
   "id": "c600c855",
   "metadata": {},
   "outputs": [],
   "source": []
  }
 ],
 "metadata": {
  "kernelspec": {
   "display_name": "Python 3 (ipykernel)",
   "language": "python",
   "name": "python3"
  },
  "language_info": {
   "codemirror_mode": {
    "name": "ipython",
    "version": 3
   },
   "file_extension": ".py",
   "mimetype": "text/x-python",
   "name": "python",
   "nbconvert_exporter": "python",
   "pygments_lexer": "ipython3",
   "version": "3.11.5"
  }
 },
 "nbformat": 4,
 "nbformat_minor": 5
}
